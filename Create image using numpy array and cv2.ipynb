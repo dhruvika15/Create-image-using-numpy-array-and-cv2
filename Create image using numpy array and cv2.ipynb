{
 "cells": [
  {
   "cell_type": "code",
   "execution_count": 8,
   "id": "e81cd9d8",
   "metadata": {},
   "outputs": [],
   "source": [
    "import numpy\n",
    "import cv2\n",
    "import matplotlib.pyplot as plot"
   ]
  },
  {
   "cell_type": "code",
   "execution_count": 159,
   "id": "59191a06",
   "metadata": {},
   "outputs": [],
   "source": [
    "myimage = numpy.ones((1000, 1000, 3))"
   ]
  },
  {
   "cell_type": "code",
   "execution_count": 180,
   "id": "7b860c7e",
   "metadata": {},
   "outputs": [],
   "source": [
    "myimage = cv2.rectangle(myimage, (250,100), (750,300), (0,255,0), -10) #face\n",
    "\n",
    "myimage = cv2.rectangle(myimage, (400,300), (600,350), (0,0,255), -10) #neck\n",
    "\n",
    "myimage = cv2.rectangle(myimage, (150,350), (850,650), (255,255,0), -10) #stomach\n",
    "\n",
    "myimage = cv2.rectangle(myimage, (350,650), (475,850), (0,255,255), -10) #left leg\n",
    "\n",
    "myimage = cv2.rectangle(myimage, (525,650), (650,850), (0,255,255), -10) #right leg\n",
    "\n",
    "myimage = cv2.rectangle(myimage, (300,850), (475,950), (255,0,255), -10) #left foot\n",
    "\n",
    "myimage = cv2.rectangle(myimage, (525,850), (700,950), (255,0,255), -10) #right foot\n",
    "\n",
    "myimage = cv2.line(myimage, (500,50), (500,100), (128,0,0), 10) #antena line\n",
    "\n",
    "myimage = cv2.circle(myimage, (500,25), 25, (255,0,255), -10) #antena circle\n",
    "\n",
    "myimage = cv2.circle(myimage, (350,175), 25, (0,0,0), 10) #left eye\n",
    "\n",
    "myimage = cv2.circle(myimage, (650,175), 25, (0,0,0), 10) #right eye\n",
    "\n",
    "myimage = cv2.ellipse(myimage, (500,250), (25,25), 0, 0, 180, (0,0,0), 10) #smile\n",
    "\n",
    "myimage = cv2.ellipse(myimage, (500,500), (200,100), 0, 0, 180, (0,0,128), -10)"
   ]
  },
  {
   "cell_type": "code",
   "execution_count": 181,
   "id": "d13efe9c",
   "metadata": {},
   "outputs": [
    {
     "name": "stderr",
     "output_type": "stream",
     "text": [
      "Clipping input data to the valid range for imshow with RGB data ([0..1] for floats or [0..255] for integers).\n"
     ]
    },
    {
     "data": {
      "text/plain": [
       "<matplotlib.image.AxesImage at 0x2b70a44ff10>"
      ]
     },
     "execution_count": 181,
     "metadata": {},
     "output_type": "execute_result"
    },
    {
     "data": {
      "image/png": "[encoded data removed]",
      "text/plain": [
       "<Figure size 432x288 with 1 Axes>"
      ]
     },
     "metadata": {
      "needs_background": "light"
     },
     "output_type": "display_data"
    }
   ],
   "source": [
    "plot.imshow(myimage)"
   ]
  },
  {
   "cell_type": "code",
   "execution_count": null,
   "id": "2ac00ea6",
   "metadata": {},
   "outputs": [],
   "source": []
  },
  {
   "cell_type": "code",
   "execution_count": null,
   "id": "298eb462",
   "metadata": {},
   "outputs": [],
   "source": []
  }
 ],
 "metadata": {
  "kernelspec": {
   "display_name": "Python 3",
   "language": "python",
   "name": "python3"
  },
  "language_info": {
   "codemirror_mode": {
    "name": "ipython",
    "version": 3
   },
   "file_extension": ".py",
   "mimetype": "text/x-python",
   "name": "python",
   "nbconvert_exporter": "python",
   "pygments_lexer": "ipython3",
   "version": "3.8.8"
  }
 },
 "nbformat": 4,
 "nbformat_minor": 5
}
